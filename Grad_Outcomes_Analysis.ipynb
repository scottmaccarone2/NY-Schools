{
 "cells": [
  {
   "cell_type": "markdown",
   "metadata": {},
   "source": [
    "I will be looking at some graduation outcome data for the State of New York. The goal of this project is to clean and analyze data, and hopefully generate some visualizations"
   ]
  },
  {
   "cell_type": "code",
   "execution_count": 200,
   "metadata": {},
   "outputs": [],
   "source": [
    "import numpy as np\n",
    "import pandas as pd\n",
    "import matplotlib.pyplot as plt"
   ]
  },
  {
   "cell_type": "code",
   "execution_count": 201,
   "metadata": {},
   "outputs": [],
   "source": [
    "graduation_outcomes = pd.read_csv(\"/Users/scottmaccarone/Desktop/Coding/My_Fun_Projects/Schools/2005_10_Grad_Outcomes_Sch_Lvl.csv\")"
   ]
  },
  {
   "cell_type": "markdown",
   "metadata": {},
   "source": [
    "I want to determine some basic information about this data set such as: size and shape, which columns have null values, are there any interesting demographics to look at, do columns need to be cleaned, etc."
   ]
  },
  {
   "cell_type": "code",
   "execution_count": 202,
   "metadata": {},
   "outputs": [
    {
     "data": {
      "text/plain": [
       "(25096, 23)"
      ]
     },
     "execution_count": 202,
     "metadata": {},
     "output_type": "execute_result"
    }
   ],
   "source": [
    "graduation_outcomes.shape"
   ]
  },
  {
   "cell_type": "code",
   "execution_count": 203,
   "metadata": {},
   "outputs": [],
   "source": [
    "pd.options.display.max_columns = 25"
   ]
  },
  {
   "cell_type": "code",
   "execution_count": 204,
   "metadata": {},
   "outputs": [],
   "source": [
    "pd.options.display.max_colwidth = 100"
   ]
  },
  {
   "cell_type": "code",
   "execution_count": 205,
   "metadata": {},
   "outputs": [
    {
     "data": {
      "text/html": [
       "<div>\n",
       "<style scoped>\n",
       "    .dataframe tbody tr th:only-of-type {\n",
       "        vertical-align: middle;\n",
       "    }\n",
       "\n",
       "    .dataframe tbody tr th {\n",
       "        vertical-align: top;\n",
       "    }\n",
       "\n",
       "    .dataframe thead th {\n",
       "        text-align: right;\n",
       "    }\n",
       "</style>\n",
       "<table border=\"1\" class=\"dataframe\">\n",
       "  <thead>\n",
       "    <tr style=\"text-align: right;\">\n",
       "      <th></th>\n",
       "      <th>Demographic</th>\n",
       "      <th>DBN</th>\n",
       "      <th>School Name</th>\n",
       "      <th>Cohort</th>\n",
       "      <th>Total Cohort</th>\n",
       "      <th>Total Grads - n</th>\n",
       "      <th>Total Grads - % of cohort</th>\n",
       "      <th>Total Regents - n</th>\n",
       "      <th>Total Regents - % of cohort</th>\n",
       "      <th>Total Regents - % of grads</th>\n",
       "      <th>Advanced Regents - n</th>\n",
       "      <th>Advanced Regents - % of cohort</th>\n",
       "      <th>Advanced Regents - % of grads</th>\n",
       "      <th>Regents w/o Advanced - n</th>\n",
       "      <th>Regents w/o Advanced - % of cohort</th>\n",
       "      <th>Regents w/o Advanced - % of grads</th>\n",
       "      <th>Local - n</th>\n",
       "      <th>Local - % of cohort</th>\n",
       "      <th>Local - % of grads</th>\n",
       "      <th>Still Enrolled - n</th>\n",
       "      <th>Still Enrolled - % of cohort</th>\n",
       "      <th>Dropped Out - n</th>\n",
       "      <th>Dropped Out - % of cohort</th>\n",
       "    </tr>\n",
       "  </thead>\n",
       "  <tbody>\n",
       "    <tr>\n",
       "      <th>0</th>\n",
       "      <td>Total Cohort</td>\n",
       "      <td>01M292</td>\n",
       "      <td>HENRY STREET SCHOOL FOR INTERNATIONAL</td>\n",
       "      <td>2003</td>\n",
       "      <td>5</td>\n",
       "      <td>s</td>\n",
       "      <td>NaN</td>\n",
       "      <td>s</td>\n",
       "      <td>NaN</td>\n",
       "      <td>NaN</td>\n",
       "      <td>s</td>\n",
       "      <td>NaN</td>\n",
       "      <td>NaN</td>\n",
       "      <td>s</td>\n",
       "      <td>NaN</td>\n",
       "      <td>NaN</td>\n",
       "      <td>s</td>\n",
       "      <td>NaN</td>\n",
       "      <td>NaN</td>\n",
       "      <td>s</td>\n",
       "      <td>NaN</td>\n",
       "      <td>s</td>\n",
       "      <td>NaN</td>\n",
       "    </tr>\n",
       "    <tr>\n",
       "      <th>1</th>\n",
       "      <td>Total Cohort</td>\n",
       "      <td>01M292</td>\n",
       "      <td>HENRY STREET SCHOOL FOR INTERNATIONAL</td>\n",
       "      <td>2004</td>\n",
       "      <td>55</td>\n",
       "      <td>37</td>\n",
       "      <td>67.3</td>\n",
       "      <td>17</td>\n",
       "      <td>30.9</td>\n",
       "      <td>45.9</td>\n",
       "      <td>0</td>\n",
       "      <td>0.0</td>\n",
       "      <td>0.0</td>\n",
       "      <td>17</td>\n",
       "      <td>30.9</td>\n",
       "      <td>45.9</td>\n",
       "      <td>20</td>\n",
       "      <td>36.4</td>\n",
       "      <td>54.1</td>\n",
       "      <td>15</td>\n",
       "      <td>27.3</td>\n",
       "      <td>3</td>\n",
       "      <td>5.5</td>\n",
       "    </tr>\n",
       "    <tr>\n",
       "      <th>2</th>\n",
       "      <td>Total Cohort</td>\n",
       "      <td>01M292</td>\n",
       "      <td>HENRY STREET SCHOOL FOR INTERNATIONAL</td>\n",
       "      <td>2005</td>\n",
       "      <td>64</td>\n",
       "      <td>43</td>\n",
       "      <td>67.2</td>\n",
       "      <td>27</td>\n",
       "      <td>42.2</td>\n",
       "      <td>62.8</td>\n",
       "      <td>0</td>\n",
       "      <td>0.0</td>\n",
       "      <td>0.0</td>\n",
       "      <td>27</td>\n",
       "      <td>42.2</td>\n",
       "      <td>62.8</td>\n",
       "      <td>16</td>\n",
       "      <td>25.0</td>\n",
       "      <td>37.2</td>\n",
       "      <td>9</td>\n",
       "      <td>14.1</td>\n",
       "      <td>9</td>\n",
       "      <td>14.1</td>\n",
       "    </tr>\n",
       "    <tr>\n",
       "      <th>3</th>\n",
       "      <td>Total Cohort</td>\n",
       "      <td>01M292</td>\n",
       "      <td>HENRY STREET SCHOOL FOR INTERNATIONAL</td>\n",
       "      <td>2006</td>\n",
       "      <td>78</td>\n",
       "      <td>43</td>\n",
       "      <td>55.1</td>\n",
       "      <td>36</td>\n",
       "      <td>46.2</td>\n",
       "      <td>83.7</td>\n",
       "      <td>0</td>\n",
       "      <td>0.0</td>\n",
       "      <td>0.0</td>\n",
       "      <td>36</td>\n",
       "      <td>46.2</td>\n",
       "      <td>83.7</td>\n",
       "      <td>7</td>\n",
       "      <td>9.0</td>\n",
       "      <td>16.3</td>\n",
       "      <td>16</td>\n",
       "      <td>20.5</td>\n",
       "      <td>11</td>\n",
       "      <td>14.1</td>\n",
       "    </tr>\n",
       "    <tr>\n",
       "      <th>4</th>\n",
       "      <td>Total Cohort</td>\n",
       "      <td>01M292</td>\n",
       "      <td>HENRY STREET SCHOOL FOR INTERNATIONAL</td>\n",
       "      <td>2006 Aug</td>\n",
       "      <td>78</td>\n",
       "      <td>44</td>\n",
       "      <td>56.4</td>\n",
       "      <td>37</td>\n",
       "      <td>47.4</td>\n",
       "      <td>84.1</td>\n",
       "      <td>0</td>\n",
       "      <td>0.0</td>\n",
       "      <td>0.0</td>\n",
       "      <td>37</td>\n",
       "      <td>47.4</td>\n",
       "      <td>84.1</td>\n",
       "      <td>7</td>\n",
       "      <td>9.0</td>\n",
       "      <td>15.9</td>\n",
       "      <td>15</td>\n",
       "      <td>19.2</td>\n",
       "      <td>11</td>\n",
       "      <td>14.1</td>\n",
       "    </tr>\n",
       "  </tbody>\n",
       "</table>\n",
       "</div>"
      ],
      "text/plain": [
       "    Demographic     DBN                            School Name    Cohort  \\\n",
       "0  Total Cohort  01M292  HENRY STREET SCHOOL FOR INTERNATIONAL      2003   \n",
       "1  Total Cohort  01M292  HENRY STREET SCHOOL FOR INTERNATIONAL      2004   \n",
       "2  Total Cohort  01M292  HENRY STREET SCHOOL FOR INTERNATIONAL      2005   \n",
       "3  Total Cohort  01M292  HENRY STREET SCHOOL FOR INTERNATIONAL      2006   \n",
       "4  Total Cohort  01M292  HENRY STREET SCHOOL FOR INTERNATIONAL  2006 Aug   \n",
       "\n",
       "   Total Cohort Total Grads - n  Total Grads - % of cohort Total Regents - n  \\\n",
       "0             5               s                        NaN                 s   \n",
       "1            55              37                       67.3                17   \n",
       "2            64              43                       67.2                27   \n",
       "3            78              43                       55.1                36   \n",
       "4            78              44                       56.4                37   \n",
       "\n",
       "   Total Regents - % of cohort  Total Regents - % of grads  \\\n",
       "0                          NaN                         NaN   \n",
       "1                         30.9                        45.9   \n",
       "2                         42.2                        62.8   \n",
       "3                         46.2                        83.7   \n",
       "4                         47.4                        84.1   \n",
       "\n",
       "  Advanced Regents - n  Advanced Regents - % of cohort  \\\n",
       "0                    s                             NaN   \n",
       "1                    0                             0.0   \n",
       "2                    0                             0.0   \n",
       "3                    0                             0.0   \n",
       "4                    0                             0.0   \n",
       "\n",
       "   Advanced Regents - % of grads Regents w/o Advanced - n  \\\n",
       "0                            NaN                        s   \n",
       "1                            0.0                       17   \n",
       "2                            0.0                       27   \n",
       "3                            0.0                       36   \n",
       "4                            0.0                       37   \n",
       "\n",
       "   Regents w/o Advanced - % of cohort  Regents w/o Advanced - % of grads  \\\n",
       "0                                 NaN                                NaN   \n",
       "1                                30.9                               45.9   \n",
       "2                                42.2                               62.8   \n",
       "3                                46.2                               83.7   \n",
       "4                                47.4                               84.1   \n",
       "\n",
       "  Local - n  Local - % of cohort  Local - % of grads Still Enrolled - n  \\\n",
       "0         s                  NaN                 NaN                  s   \n",
       "1        20                 36.4                54.1                 15   \n",
       "2        16                 25.0                37.2                  9   \n",
       "3         7                  9.0                16.3                 16   \n",
       "4         7                  9.0                15.9                 15   \n",
       "\n",
       "   Still Enrolled - % of cohort Dropped Out - n  Dropped Out - % of cohort  \n",
       "0                           NaN               s                        NaN  \n",
       "1                          27.3               3                        5.5  \n",
       "2                          14.1               9                       14.1  \n",
       "3                          20.5              11                       14.1  \n",
       "4                          19.2              11                       14.1  "
      ]
     },
     "execution_count": 205,
     "metadata": {},
     "output_type": "execute_result"
    }
   ],
   "source": [
    "graduation_outcomes.head()"
   ]
  },
  {
   "cell_type": "code",
   "execution_count": 206,
   "metadata": {},
   "outputs": [
    {
     "data": {
      "text/plain": [
       "array(['HENRY STREET SCHOOL FOR INTERNATIONAL',\n",
       "       'UNIVERSITY NEIGHBORHOOD HIGH SCHOOL',\n",
       "       'EAST SIDE COMMUNITY SCHOOL', 'MARTA VALLE HIGH SCHOOL',\n",
       "       'LOWER EAST SIDE PREPARATORY HIGH SCHO',\n",
       "       'NEW EXPLORATIONS INTO SCIENCE  TECHNO', 'CASCADES HIGH SCHOOL',\n",
       "       'BARD HIGH SCHOOL EARLY COLLEGE',\n",
       "       '47 THE AMERICAN SIGN LANGUAGE AND ENG',\n",
       "       'FOOD AND FINANCE HIGH SCHOOL', 'ESSEX STREET ACADEMY',\n",
       "       'HIGH SCHOOL OF HOSPITALITY MANAGEMENT', 'PACE HIGH SCHOOL',\n",
       "       'URBAN ASSEMBLY SCHOOL OF DESIGN AND C',\n",
       "       'FACING HISTORY SCHOOL  THE',\n",
       "       'URBAN ASSEMBLY ACADEMY OF GOVERNMENT',\n",
       "       'LOWER MANHATTAN ARTS ACADEMY',\n",
       "       'JAMES BALDWIN SCHOOL  THE: A SCHOOL F',\n",
       "       'URBAN ASSEMBLY SCHOOL OF BUSINESS FOR YOUNG WOMEN',\n",
       "       'BENJAMIN BANNEKER ACADEMY', 'GRAMERCY ARTS HIGH SCHOOL',\n",
       "       'EMMA LAZARUS HIGH SCHOOL',\n",
       "       'HIGH SCHOOL FOR ENVIRONMENTAL STUDIES',\n",
       "       'INSTITUTE FOR COLLABORATIVE EDUCATION',\n",
       "       'PROFESSIONAL PERFORMING ARTS HIGH SCH',\n",
       "       'COALITION SCHOOL FOR SOCIAL CHANGE',\n",
       "       'BARUCH COLLEGE CAMPUS HIGH SCHOOL',\n",
       "       'N.Y.C. LAB SCHOOL FOR COLLABORATIVE S',\n",
       "       'SCHOOL OF THE FUTURE HIGH SCHOOL', 'LANDMARK HIGH SCHOOL',\n",
       "       'N.Y.C. MUSEUM SCHOOL', 'ELEANOR ROOSEVELT HIGH SCHOOL',\n",
       "       'MILLENNIUM HIGH SCHOOL', 'HIGH SCHOOL FOR HEALTH PROFESSIONS AN',\n",
       "       'LEADERSHIP AND PUBLIC SERVICE HIGH SC',\n",
       "       'LEGACY SCHOOL FOR INTEGRATED STUDIES',\n",
       "       'MANHATTAN VILLAGE ACADEMY', 'CROTONA ACADEMY HIGH SCHOOL',\n",
       "       'BAYARD RUSTIN EDUCATIONAL COMPLEX',\n",
       "       'BALLET TECH  NYC PUBLIC SCHOOL FOR DA', 'SEWARD PARK HIGH SCHOOL',\n",
       "       'VANGUARD HIGH SCHOOL', 'MANHATTAN INTERNATIONAL HIGH SCHOOL',\n",
       "       'WASHINGTON IRVING HIGH SCHOOL', 'STUYVESANT HIGH SCHOOL',\n",
       "       'HIGH SCHOOL OF ECONOMICS AND FINANCE',\n",
       "       'UNITY CENTER FOR URBAN TECHNOLOGIES',\n",
       "       'TALENT UNLIMITED HIGH SCHOOL',\n",
       "       'MURRY BERGTRAUM HIGH SCHOOL FOR BUSIN',\n",
       "       'JACQUELINE KENNEDY ONASSIS HIGH SCHOO',\n",
       "       'INDEPENDENCE HIGH SCHOOL',\n",
       "       'REPERTORY COMPANY HIGH SCHOOL FOR THE', 'PARK WEST HIGH SCHOOL',\n",
       "       'MANHATTAN BRIDGES HIGH SCHOOL', 'NEW DESIGN HIGH SCHOOL',\n",
       "       'HIGH SCHOOL FOR DUAL LANGUAGE AND ASI',\n",
       "       'LIBERTY HIGH SCHOOL ACADEMY FOR NEWCO', 'THE HARBOR HS',\n",
       "       'HIGH SCHOOL M560 - CITY AS SCHOOL',\n",
       "       'URBAN ACADEMY LABORATORY HIGH SCHOOL',\n",
       "       'SATELLITE ACADEMY HIGH SCHOOL',\n",
       "       'MANHATTAN COMPREHENSIVE NIGHT AND DAY',\n",
       "       'RICHARD R. GREEN HIGH SCHOOL OF TEACH', 'HARVEY MILK HIGH SCHOOL',\n",
       "       'THE HIGH SCHOOL OF FASHION INDUSTRIES',\n",
       "       'PABLO NERUDA ACADEMY FOR ARCHITECTURE',\n",
       "       'HUMANITIES PREPARATORY ACADEMY',\n",
       "       'CHELSEA CAREER AND TECHNICAL EDUCATIO',\n",
       "       'NORMAN THOMAS HIGH SCHOOL',\n",
       "       'HIGH SCHOOL OF GRAPHIC COMMUNICATION',\n",
       "       'ART AND DESIGN HIGH SCHOOL', 'LIFE SCIENCES SECONDARY SCHOOL',\n",
       "       'SCHOOL FOR THE PHYSICAL CITY',\n",
       "       'MANHATTAN THEATRE LAB HIGH SCHOOL',\n",
       "       'HIGH SCHOOL FOR ARTS  IMAGINATION AND',\n",
       "       'URBAN ASSEMBLY SCHOOL FOR MEDIA STUDI', 'INNOVATION DIPLOMA PLUS',\n",
       "       'WADLEIGH SECONDARY SCHOOL FOR THE PER',\n",
       "       'BOYS AND GIRLS HIGH SCHOOL', 'LOUIS D. BRANDEIS HIGH SCHOOL',\n",
       "       'BEACON HIGH SCHOOL', 'FIORELLO H. LAGUARDIA HIGH SCHOOL OF',\n",
       "       'MARTIN LUTHER KING JR. ACADEMY',\n",
       "       'HIGH SCHOOL FOR LAW  ADVOCACY AND COM',\n",
       "       'HIGH SCHOOL OF ARTS AND TECHNOLOGY',\n",
       "       'EDWARD A. REYNOLDS WEST SIDE HIGH SCH',\n",
       "       'MANHATTAN / HUNTER SCIENCE HIGH SCHOO',\n",
       "       'FREDERICK DOUGLASS ACADEMY II SECONDA',\n",
       "       'MANHATTAN CENTER FOR SCIENCE AND MATH', 'PARK EAST HIGH SCHOOL',\n",
       "       'VALIDUS PREPARATORY ACADEMY: AN EXPED',\n",
       "       'CENTRAL PARK EAST HIGH SCHOOL', \"YOUNG WOMEN'S LEADERSHIP SCHOOL\",\n",
       "       'ACADEMY OF ENVIRONMENTAL SCIENCE SECO', 'HERITAGE SCHOOL  THE',\n",
       "       'URBAN PEACE ACADEMY', 'HARLEM RENAISSANCE HIGH SCHOOL',\n",
       "       'MOTT HALL HIGH SCHOOL', 'URBAN ASSEMBLY SCHOOL FOR THE PERFORM',\n",
       "       'CHOIR ACADEMY OF HARLEM', 'FREDERICK DOUGLASS ACADEMY',\n",
       "       'THURGOOD MARSHALL ACADEMY FOR LEARNIN',\n",
       "       'BRONX SCHOOL OF LAW AND FINANCE',\n",
       "       'BREAD  &  ROSES INTEGRATED ARTS HIGH',\n",
       "       'HIGH SCHOOL FOR MATHEMATICS  SCIENCE',\n",
       "       'HIGH SCHOOL FOR INTERNATIONAL BUSINES',\n",
       "       'HIGH SCHOOL FOR MEDIA AND COMMUNICATI',\n",
       "       'HIGH SCHOOL FOR LAW AND PUBLIC SERVIC',\n",
       "       'HIGH SCHOOL FOR HEALTH CAREERS AND SC',\n",
       "       'A. PHILIP RANDOLPH CAMPUS HIGH SCHOOL',\n",
       "       'GREGORIO LUPERON HIGH SCHOOL FOR SCIE',\n",
       "       'SOUTH BRONX PREPARATORY: A COLLEGE BO',\n",
       "       'INTERNATIONAL COMMUNITY HIGH SCHOOL',\n",
       "       'JILL CHAIFETZ TRANSFER HIGH SCHOOL',\n",
       "       'BRONX HAVEN HIGH SCHOOL\\xa0 \\xa0',\n",
       "       'FOREIGN LANGUAGE ACADEMY OF GLOBAL ST',\n",
       "       'COMMUNITY SCHOOL FOR SOCIAL JUSTICE', 'SOUTH BRONX HIGH SCHOOL',\n",
       "       'MOTT HAVEN VILLAGE PREPARATORY HIGH S',\n",
       "       'HOSTOS-LINCOLN ACADEMY OF SCIENCE',\n",
       "       'BRONX LEADERSHIP ACADEMY II HS', 'NEW EXPLORERS HIGH SCHOOL',\n",
       "       'URBAN ASSEMBLY SCHOOL FOR CAREERS IN', 'BRONX ACADEMY OF LETTERS',\n",
       "       'ALFRED E. SMITH CAREER AND TECHNICAL',\n",
       "       'ARTS & MEDIA PREPARATORY ACADEMY',\n",
       "       'SAMUEL GOMPERS CAREER AND TECHNICAL E',\n",
       "       'HEALTH OPPORTUNITIES HIGH SCHOOL',\n",
       "       \"WOMEN'S ACADEMY OF EXCELLENCE\",\n",
       "       'RENAISSANCE HIGH SCHOOL FOR MUSICAL T',\n",
       "       'GATEWAY SCHOOL FOR ENVIRONMENTAL RESE', 'MILLENNIUM ART ACADEMY',\n",
       "       'HOLCOMBE L. RUCKER SCHOOL OF COMMUNIT',\n",
       "       'BRONX COMMUNITY HIGH SCHOOL', 'HERBERT H. LEHMAN HIGH SCHOOL',\n",
       "       'ADLAI E. STEVENSON HIGH SCHOOL', 'BRONX GUILD',\n",
       "       'FELISA RINCON DE GAUTIER INSTITUTE FO',\n",
       "       'BANANA KELLY HIGH SCHOOL',\n",
       "       'SCHOOL FOR COMMUNITY RESEARCH AND LEA',\n",
       "       'HIGH SCHOOL X560 - BRONX ACADEMY HIGH',\n",
       "       'JANE ADDAMS HIGH SCHOOL FOR ACADEMIC',\n",
       "       'NEW SCHOOL FOR ARTS AND SCIENCES',\n",
       "       'BRONX EXPEDITIONARY LEARNING HIGH SCH',\n",
       "       'EAGLE ACADEMY FOR YOUNG MEN',\n",
       "       'URBAN ASSEMBLY ACADEMY FOR HISTORY AN',\n",
       "       'EXIMIUS COLLEGE PREPARATORY ACADEMY:',\n",
       "       'MOTT HALL BRONX HIGH SCHOOL',\n",
       "       'BRONX CENTER FOR SCIENCE AND MATHEMAT', 'WINGS ACADEMY',\n",
       "       'LEADERSHIP INSTITUTE', 'MORRIS ACADEMY FOR COLLABORATIVE STUD',\n",
       "       'DREAMYARD PREPARATORY SCHOOL', 'BRONX INTERNATIONAL HIGH SCHOOL',\n",
       "       'SCHOOL FOR EXCELLENCE', 'BRONX HIGH SCHOOL OF BUSINESS',\n",
       "       'BRONX HIGH SCHOOL FOR MEDICAL SCIENCE',\n",
       "       'JONATHAN LEVIN HIGH SCHOOL FOR MEDIA',\n",
       "       'BRONX SCHOOL FOR LAW  GOVERNMENT AND',\n",
       "       'FREDERICK DOUGLASS ACADEMY III SECOND',\n",
       "       'BRONX LEADERSHIP ACADEMY HIGH SCHOOL',\n",
       "       'CULTURAL ACADEMY FOR THE ARTS AND SCI',\n",
       "       'HIGH SCHOOL FOR VIOLIN AND DANCE',\n",
       "       'RIVERDALE / KINGSBRIDGE ACADEMY (MIDD',\n",
       "       'BRONX ENGINEERING AND TECHNOLOGY ACAD',\n",
       "       'THEATRE ARTS PRODUCTION COMPANY SCHOO',\n",
       "       'THE MARIE CURIE SCHOOL FOR MEDICINE',\n",
       "       'WEST BRONX ACADEMY FOR THE FUTURE',\n",
       "       'KINGSBRIDGE INTERNATIONAL HIGH SCHOOL',\n",
       "       'PROVIDING URBAN LEARNERS SUCCESS IN E',\n",
       "       'INTERNATIONAL SCHOOL FOR LIBERAL ARTS',\n",
       "       'IN-TECH ACADEMY (M.S. / HIGH SCHOOL 3',\n",
       "       'KNOWLEDGE AND POWER PREPARATORY ACADE',\n",
       "       'ENGLISH LANGUAGE LEARNERS AND INTERNA',\n",
       "       'WILLIAM H. TAFT HIGH SCHOOL', 'WALTON HIGH SCHOOL',\n",
       "       'HIGH SCHOOL FOR TEACHING AND THE PROF',\n",
       "       'BELMONT PREPARATORY HIGH SCHOOL',\n",
       "       'THEODORE ROOSEVELT HIGH SCHOOL',\n",
       "       'FORDHAM HIGH SCHOOL FOR THE ARTS',\n",
       "       'FORDHAM LEADERSHIP ACADEMY FOR BUSINE',\n",
       "       'BRONX HIGH SCHOOL FOR LAW AND COMMUNI',\n",
       "       'GRACE DODGE CAREER AND TECHNICAL EDUC',\n",
       "       'DEWITT CLINTON HIGH SCHOOL',\n",
       "       'CELIA CRUZ BRONX HIGH SCHOOL OF MUSIC',\n",
       "       'BRONX HIGH SCHOOL OF SCIENCE', 'JOHN F. KENNEDY HIGH SCHOOL',\n",
       "       'MARBLE HILL HIGH SCHOOL FOR INTERNATI', 'UNIVERSITY HEIGHTS',\n",
       "       'BRONX THEATRE HIGH SCHOOL', 'DISCOVERY HIGH SCHOOL',\n",
       "       'HIGH SCHOOL OF AMERICAN STUDIES AT LE',\n",
       "       'BRONX HEALTH SCIENCES HIGH SCHOOL',\n",
       "       'BRONX HIGH SCHOOL FOR WRITING AND COM', 'BRONX LAB SCHOOL',\n",
       "       'ACADEMY FOR SCHOLARSHIP AND ENTRENEURSHIP',\n",
       "       'HIGH SCHOOL OF COMPUTERS AND TECHNOLO',\n",
       "       'COLLEGIATE INSTITUTE FOR MATH AND SCI',\n",
       "       'BRONX ACADEMY OF HEALTH CAREERS', 'ASTOR COLLEGIATE ACADEMY',\n",
       "       'CHRISTOPHER COLUMBUS HIGH SCHOOL',\n",
       "       'BRONX HIGH SCHOOL FOR THE VISUAL ARTS',\n",
       "       'EVANDER CHILDS HIGH SCHOOL', 'HARRY S TRUMAN HIGH SCHOOL',\n",
       "       'NEW WORLD HIGH SCHOOL', 'THE BRONXWOOD PREPARATORY ACADEMY',\n",
       "       'OLYMPUS ACADEMY', 'GLOBAL ENTERPRISE HIGH SCHOOL',\n",
       "       'PELHAM PREPARATORY ACADEMY', 'HIGH SCHOOL FOR CONTEMPORARY ARTS',\n",
       "       'BRONX AEROSPACE HIGH SCHOOL', 'NEW DAY ACADEMY',\n",
       "       'METROPOLITAN HIGH SCHOOL  THE', 'EXPLORATIONS ACADEMY',\n",
       "       'PERFORMANCE CONSERVATORY HIGH SCHOOL', 'BRONX LATIN',\n",
       "       'EAST BRONX ACADEMY FOR THE FUTURE', 'PEACE AND DIVERSITY ACADEMY',\n",
       "       'BRONX REGIONAL HIGH SCHOOL', 'HIGH SCHOOL OF WORLD CULTURES',\n",
       "       'PERFORMING ARTS AND TECHNOLOGY HIGH S',\n",
       "       'BRONX COALITION COMMUNITY HIGH SCHOOL',\n",
       "       'FANNIE LOU HAMER FREEDOM HIGH SCHOOL',\n",
       "       'MONROE ACADEMY FOR BUSINESS/LAW',\n",
       "       'MONROE ACADEMY FOR VISUAL ARTS & DESI',\n",
       "       'DR. SUSAN S. MCKINNEY SECONDARY SCHOO',\n",
       "       'URBAN ASSEMBLY HIGH SCHOOL OF MUSIC A',\n",
       "       'BROOKLYN COMMUNITY HIGH SCHOOL OF COM',\n",
       "       'SCIENCE SKILLS CENTER HIGH SCHOOL FOR',\n",
       "       'BROOKLYN TECHNICAL HIGH SCHOOL',\n",
       "       'BROOKLYN INTERNATIONAL HIGH SCHOOL',\n",
       "       'THE URBAN ASSEMBLY SCHOOL FOR LAW AND',\n",
       "       'ACORN COMMUNITY HIGH SCHOOL', 'FREEDOM ACADEMY HIGH SCHOOL',\n",
       "       'BROOKLYN ACADEMY HIGH SCHOOL',\n",
       "       'BEDFORD STUYVESANT PREPARATORY HIGH S',\n",
       "       'BEDFORD ACADEMY HIGH SCHOOL',\n",
       "       'GEORGE WESTINGHOUSE CAREER AND TECHNI',\n",
       "       'BROOKLYN HIGH SCHOOL FOR LEADERSHIP A',\n",
       "       'JUAN MOREL CAMPOS SECONDARY SCHOOL', 'SCHOOL FOR LEGAL STUDIES',\n",
       "       'FOUNDATIONS ACADEMY', 'ACADEMY FOR YOUNG WRITERS',\n",
       "       'BROOKLYN LATIN SCHOOL  THE',\n",
       "       'GREEN SCHOOL: AN ACADEMY FOR ENVIRONM',\n",
       "       'PROGRESS HIGH SCHOOL FOR PROFESSIONAL',\n",
       "       'THE HIGH SCHOOL FOR ENTERPRISE  BUSIN',\n",
       "       'BROOKLYN PREPARATORY HIGH SCHOOL',\n",
       "       'WILLIAMSBURG HIGH SCHOOL FOR ARCHITEC',\n",
       "       'WILLIAMSBURG PREPARATORY SCHOOL', 'LYONS COMMUNITY SCHOOL',\n",
       "       'AUTOMOTIVE HIGH SCHOOL', 'HARRY VAN ARSDALE HIGH SCHOOL',\n",
       "       'EL PUENTE ACADEMY FOR PEACE AND JUSTI',\n",
       "       'AGNES Y. HUMPHREY SCHOOL FOR LEADERSH',\n",
       "       'BROOKLYN SCHOOL FOR GLOBAL STUDIES',\n",
       "       'BROOKLYN SECONDARY SCHOOL FOR COLLABO', 'JOHN JAY HIGH SCHOOL',\n",
       "       'SECONDARY SCHOOL FOR LAW', 'SECONDARY SCHOOL FOR JOURNALISM',\n",
       "       'PARK SLOPE COLLEGIATE', 'SCHOOL FOR INTERNATIONAL STUDIES',\n",
       "       'ACORN HS FOR SOCIAL JUSTICE',\n",
       "       'COBBLE HILL SCHOOL OF AMERICAN STUDIE', 'PACIFIC HIGH SCHOOL',\n",
       "       'WEST BROOKLYN COMMUNITY HIGH SCHOOL',\n",
       "       'METROPOLITAN CORPORATE ACADEMY HIGH S',\n",
       "       'BROOKLYN HIGH SCHOOL OF THE ARTS',\n",
       "       'SOUTH BROOKLYN COMMUNITY HIGH SCHOOL', 'LIBERATION DIPLOMA PLUS',\n",
       "       'FREDERICK DOUGLASS ACADEMY IV SECONDA',\n",
       "       'GOTHAM PROFESSIONAL ARTS ACADEMY',\n",
       "       'ACADEMY FOR COLLEGE PREPARATION AND C',\n",
       "       'ACADEMY OF  HOSPITALITY AND TOURISM',\n",
       "       'PROSPECT HEIGHTS HIGH SCHOOL',\n",
       "       'INTERNATIONAL ARTS BUSINESS SCHOOL',\n",
       "       'ERASMUS HALL CAMPUS: HS FOR SCIENCE & MATH',\n",
       "       'ERASMUS HALL CAMPUS: HS FOR HUMANITIES',\n",
       "       'GEORGE WINGATE HIGH SCHOOL',\n",
       "       'ERASMUS HALL CAMPUS: HS FOR BUSINESS & TECHN',\n",
       "       'W.E.B. DUBOIS ACADEMIC HIGH SCHOOL',\n",
       "       'INTERNATIONAL HIGH SCHOOL AT PROSPECT',\n",
       "       'THE HIGH SCHOOL FOR GLOBAL CITIZENSHI',\n",
       "       'SCHOOL FOR HUMAN RIGHTS  THE',\n",
       "       'SCHOOL FOR DEMOCRACY AND  LEADERSHIP',\n",
       "       'EXPEDITIONARY LEARNING SCHOOL FOR COM',\n",
       "       'HIGH SCHOOL FOR PUBLIC SERVICE: HEROE',\n",
       "       'HIGH SCHOOL FOR YOUTH AND COMMUNITY D',\n",
       "       'HIGH SCHOOL FOR SERVICE & LEARNING AT',\n",
       "       'SCIENCE  TECHNOLOGY AND RESEARCH EARL',\n",
       "       'BROOKLYN ACADEMY OF SCIENCE AND THE',\n",
       "       'BROOKLYN SCHOOL FOR MUSIC & THEATRE',\n",
       "       'BROWNSVILLE ACADEMY HIGH SCHOOL',\n",
       "       'MEDGAR EVERS COLLEGE PREPARATORY SCHO',\n",
       "       'BARD HIGH SCHOOL EARLY COLLEGE II', 'CLARA BARTON HIGH SCHOOL',\n",
       "       'PAUL ROBESON HIGH SCHOOL', 'SAMUEL J. TILDEN HIGH SCHOOL',\n",
       "       'CANARSIE HIGH SCHOOL', 'SOUTH SHORE HIGH SCHOOL',\n",
       "       'IT TAKES A VILLAGE ACADEMY', 'BROOKLYN GENERATION SCHOOL',\n",
       "       'BROOKLYN THEATRE ARTS HIGH SCHOOL',\n",
       "       'KURT HAHN EXPEDITIONARY LEARNING SCHO',\n",
       "       'VICTORY COLLEGIATE HIGH SCHOOL', 'BROOKLYN BRIDGE ACADEMY',\n",
       "       'EAST BROOKLYN COMMUNITY HIGH SCHOOL',\n",
       "       'EAST NEW YORK FAMILY ACADEMY', 'HIGH SCHOOL FOR CIVIL RIGHTS',\n",
       "       'FRANKLIN K. LANE HIGH SCHOOL', 'THOMAS JEFFERSON HIGH SCHOOL',\n",
       "       'FDNY HIGH SCHOOL FOR FIRE AND LIFE SA',\n",
       "       'WORLD ACADEMY FOR TOTAL COMMUNITY HEA',\n",
       "       'MULTICULTURAL HIGH SCHOOL',\n",
       "       'TRANSIT TECH CAREER AND TECHNICAL EDU',\n",
       "       'ACADEMY OF INNOVATIVE TECHNOLOGY', 'BROOKLYN LAB SCHOOL',\n",
       "       'CYPRESS HILLS COLLEGIATE PREPARATORY',\n",
       "       'W. H. MAXWELL CAREER AND TECHNICAL ED', 'NEW UTRECHT HIGH SCHOOL',\n",
       "       'HIGH SCHOOL OF  TELECOMMUNICATION ART',\n",
       "       'FORT HAMILTON HIGH SCHOOL',\n",
       "       'FRANKLIN DELANO ROOSEVELT HIGH SCHOOL',\n",
       "       'INTERNATIONAL HIGH SCHOOL AT LAFAYETTE',\n",
       "       'RACHEL CARSON HIGH SCHOOL FOR COASTAL',\n",
       "       'HIGH SCHOOL OF SPORTS MANAGEMENT', 'LAFAYETTE HIGH SCHOOL',\n",
       "       'ABRAHAM LINCOLN HIGH SCHOOL', 'EDWARD R. MURROW HIGH SCHOOL',\n",
       "       'JOHN DEWEY HIGH SCHOOL', 'MIDWOOD HIGH SCHOOL',\n",
       "       'LIFE ACADEMY HIGH SCHOOL FOR FILM AND',\n",
       "       'WILLIAM E. GRADY CAREER AND TECHNICAL',\n",
       "       'BROOKLYN STUDIO SECONDARY SCHOOL', 'JAMES MADISON HIGH SCHOOL',\n",
       "       'SHEEPSHEAD BAY HIGH SCHOOL',\n",
       "       'LEON M. GOLDSTEIN HIGH SCHOOL FOR THE',\n",
       "       'BROOKLYN COLLEGE ACADEMY', 'BROOKLYN COLLEGIATE: A COLLEGE BOARD',\n",
       "       'FREDERICK DOUGLASS ACADEMY VII HIGH S',\n",
       "       'BROOKLYN DEMOCRACY ACADEMY',\n",
       "       'EBC/ENY HIGH SCHOOL FOR PUBLIC SAFETY',\n",
       "       'ASPIRATIONS DIPLOMA PLUS HIGH SCHOOL',\n",
       "       'METROPOLITAN DIPLOMA PLUS HIGH SCHOOL',\n",
       "       'TEACHERS PREPARATORY HIGH SCHOOL',\n",
       "       'ACADEMY OF FINANCE AND  ENTERPRISE',\n",
       "       'HIGH SCHOOL OF APPLIED COMMUNICATION',\n",
       "       'PAN AMERICAN INTERNATIONAL HIGH SCHOO', 'NEWTOWN HIGH SCHOOL',\n",
       "       'GROVER CLEVELAND HIGH SCHOOL',\n",
       "       'MIDDLE COLLEGE HIGH SCHOOL AT LAGUARD',\n",
       "       'INTERNATIONAL HIGH SCHOOL AT LAGUARDI',\n",
       "       'HIGH SCHOOL FOR ARTS AND BUSINESS',\n",
       "       'ROBERT F. WAGNER  JR. SECONDARY SCHOO', 'CONCORD HIGH SCHOOL',\n",
       "       'QUEENS VOCATIONAL AND TECHNICAL HIGH',\n",
       "       'AVIATION CAREER & TECHNICAL EDUCATION', 'VOYAGES PREPARATORY',\n",
       "       'FLUSHING INTERNATIONAL HIGH SCHOOL',\n",
       "       'EAST-WEST SCHOOL OF INTERNATIONAL STU',\n",
       "       'WORLD JOURNALISM PREPARATORY: A COLLE', 'JOHN BOWNE HIGH SCHOOL',\n",
       "       'FLUSHING HIGH SCHOOL', 'TOWNSEND HARRIS HIGH SCHOOL',\n",
       "       'QUEENS ACADEMY HIGH SCHOOL',\n",
       "       'ROBERT F. KENNEDY COMMUNITY HIGH SCHO',\n",
       "       'NORTH QUEENS COMMUNITY HIGH SCHOOL',\n",
       "       'BENJAMIN N. CARDOZO HIGH SCHOOL',\n",
       "       'INFORMATION TECHNOLOGY HIGH SCHOOL', 'FRANCIS LEWIS HIGH SCHOOL',\n",
       "       'MARTIN VAN BUREN HIGH SCHOOL', 'BAYSIDE HIGH SCHOOL',\n",
       "       'QUEENS HIGH SCHOOL OF TEACHING  LIBER',\n",
       "       'FREDERICK DOUGLASS ACADEMY VI HIGH SC',\n",
       "       'CHANNEL VIEW SCHOOL FOR RESEARCH',\n",
       "       'QUEENS HIGH SCHOOL FOR INFORMATION  R',\n",
       "       'AUGUST MARTIN HIGH SCHOOL', 'BEACH CHANNEL HIGH SCHOOL',\n",
       "       'FAR ROCKAWAY HIGH SCHOOL', 'RICHMOND HILL HIGH SCHOOL',\n",
       "       'JOHN ADAMS HIGH SCHOOL', 'HIGH SCHOOL FOR CONSTRUCTION TRADES',\n",
       "       'FOREST HILLS HIGH SCHOOL', 'JAMAICA HIGH SCHOOL',\n",
       "       'HILLCREST HIGH SCHOOL', 'THOMAS A. EDISON CAREER AND TECHNICAL',\n",
       "       'QUEENS GATEWAY TO HEALTH SCIENCES SEC',\n",
       "       'QUEENS HIGH SCHOOL FOR THE SCIENCES A',\n",
       "       'HIGH SCHOOL FOR LAW ENFORCEMENT AND P',\n",
       "       'QUEENS PREPARATORY ACADEMY',\n",
       "       'PATHWAYS COLLEGE PREPARATORY SCHOOL:',\n",
       "       'EXCELSIOR PREPARATORY HIGH SCHOOL',\n",
       "       'GEORGE WASHINGTON CARVER HIGH SCHOOL',\n",
       "       'PREPARATORY ACADEMY FOR WRITERS: A CO',\n",
       "       'SPRINGFIELD GARDENS HIGH SCHOOL',\n",
       "       'MATHEMATICS  SCIENCE RESEARCH AND TEC',\n",
       "       'LAW  GOVERNMENT AND COMMUNITY SERVICE',\n",
       "       'BUSINESS  COMPUTER APPLICATIONS & ENT',\n",
       "       'HUMANITIES & ARTS MAGNET HIGH SCHOOL',\n",
       "       'WILLIAM CULLEN BRYANT HIGH SCHOOL',\n",
       "       'LONG ISLAND CITY HIGH SCHOOL',\n",
       "       'FRANK SINATRA SCHOOL OF THE ARTS HIGH SCHOOL',\n",
       "       'NEWCOMERS HIGH SCHOOL', 'ACADEMY OF AMERICAN STUDIES',\n",
       "       'BACCALAUREATE SCHOOL FOR GLOBAL EDUCA',\n",
       "       'CSI HIGH SCHOOL FOR INTERNATIONAL STU',\n",
       "       'THE MICHAEL J. PETRIDES SCHOOL', 'NEW DORP HIGH SCHOOL',\n",
       "       'PORT RICHMOND HIGH SCHOOL', 'CURTIS HIGH SCHOOL',\n",
       "       'TOTTENVILLE HIGH SCHOOL', 'SUSAN E. WAGNER HIGH SCHOOL',\n",
       "       'RALPH R. MCKEE CAREER AND TECHNICAL E',\n",
       "       'STATEN ISLAND TECHNICAL HIGH SCHOOL',\n",
       "       'ACADEMY FOR ENVIRONMENTAL LEADERSHIP', 'BUSHWICK HIGH SCHOOL',\n",
       "       'EBC HIGH SCHOOL FOR PUBLIC SERVICE\\x16BU',\n",
       "       'BUSHWICK SCHOOL FOR SOCIAL JUSTICE', 'ACADEMY OF URBAN PLANNING',\n",
       "       'ALL CITY LEADERSHIP SECONDARY SCHOOL',\n",
       "       'BUSHWICK LEADERS HIGH SCHOOL FOR ACAD',\n",
       "       'BUSHWICK COMMUNITY HIGH SCHOOL'], dtype=object)"
      ]
     },
     "execution_count": 206,
     "metadata": {},
     "output_type": "execute_result"
    }
   ],
   "source": [
    "graduation_outcomes['School Name'].unique()"
   ]
  },
  {
   "cell_type": "code",
   "execution_count": 207,
   "metadata": {},
   "outputs": [
    {
     "data": {
      "text/plain": [
       "Demographic                              0\n",
       "DBN                                      0\n",
       "School Name                              0\n",
       "Cohort                                   0\n",
       "Total Cohort                             0\n",
       "Total Grads - n                          0\n",
       "Total Grads - % of cohort             8392\n",
       "Total Regents - n                        0\n",
       "Total Regents - % of cohort           8392\n",
       "Total Regents - % of grads            8444\n",
       "Advanced Regents - n                     0\n",
       "Advanced Regents - % of cohort        8392\n",
       "Advanced Regents - % of grads         8444\n",
       "Regents w/o Advanced - n                 0\n",
       "Regents w/o Advanced - % of cohort    8392\n",
       "Regents w/o Advanced - % of grads     8444\n",
       "Local - n                                0\n",
       "Local - % of cohort                   8392\n",
       "Local - % of grads                    8444\n",
       "Still Enrolled - n                       0\n",
       "Still Enrolled - % of cohort          8392\n",
       "Dropped Out - n                          0\n",
       "Dropped Out - % of cohort             8392\n",
       "dtype: int64"
      ]
     },
     "execution_count": 207,
     "metadata": {},
     "output_type": "execute_result"
    }
   ],
   "source": [
    "graduation_outcomes.isnull().sum()"
   ]
  },
  {
   "cell_type": "code",
   "execution_count": 208,
   "metadata": {},
   "outputs": [
    {
     "data": {
      "text/plain": [
       "array(['Total Cohort', 'Asian', 'Male', 'Black',\n",
       "       'English Language Learners', 'Hispanic', 'White',\n",
       "       'English Proficient Students', 'Special Education Students',\n",
       "       'General Education Students', 'Female'], dtype=object)"
      ]
     },
     "execution_count": 208,
     "metadata": {},
     "output_type": "execute_result"
    }
   ],
   "source": [
    "graduation_outcomes['Demographic'].unique()"
   ]
  },
  {
   "cell_type": "markdown",
   "metadata": {},
   "source": [
    "I will focus on 5 demographic groups: \"Total Cohort\", \"Asian\", \"Black\", \"Hispanic\", \"White\". Later I will look into \"Male\" and \"Female\" comparisons:"
   ]
  },
  {
   "cell_type": "code",
   "execution_count": 209,
   "metadata": {},
   "outputs": [],
   "source": [
    "demo_int = ['Total Cohort', 'Asian', 'Black', 'Hispanic', 'White',]"
   ]
  },
  {
   "cell_type": "code",
   "execution_count": 210,
   "metadata": {},
   "outputs": [],
   "source": [
    "interesting_demos = graduation_outcomes.loc[graduation_outcomes['Demographic'].isin(demo_int)]"
   ]
  },
  {
   "cell_type": "code",
   "execution_count": 211,
   "metadata": {},
   "outputs": [
    {
     "data": {
      "text/plain": [
       "Total Cohort    2493\n",
       "Black           2403\n",
       "Hispanic        2385\n",
       "Asian           1780\n",
       "White           1777\n",
       "Name: Demographic, dtype: int64"
      ]
     },
     "execution_count": 211,
     "metadata": {},
     "output_type": "execute_result"
    }
   ],
   "source": [
    "interesting_demos['Demographic'].value_counts()"
   ]
  },
  {
   "cell_type": "code",
   "execution_count": 212,
   "metadata": {},
   "outputs": [
    {
     "data": {
      "text/plain": [
       "s     4168\n",
       "21     113\n",
       "19     112\n",
       "25     110\n",
       "28     103\n",
       "Name: Total Grads - n, dtype: int64"
      ]
     },
     "execution_count": 212,
     "metadata": {},
     "output_type": "execute_result"
    }
   ],
   "source": [
    "interesting_demos['Total Grads - n'].value_counts().head()"
   ]
  },
  {
   "cell_type": "markdown",
   "metadata": {},
   "source": [
    "I will remove rows with `s` as a value for the `Total Grads - n` column:"
   ]
  },
  {
   "cell_type": "code",
   "execution_count": 213,
   "metadata": {},
   "outputs": [
    {
     "data": {
      "text/plain": [
       "21    113\n",
       "19    112\n",
       "25    110\n",
       "28    103\n",
       "23    100\n",
       "Name: Total Grads - n, dtype: int64"
      ]
     },
     "execution_count": 213,
     "metadata": {},
     "output_type": "execute_result"
    }
   ],
   "source": [
    "interesting_demos = interesting_demos[interesting_demos['Total Grads - n'] != 's']\n",
    "interesting_demos['Total Grads - n'].value_counts().head()"
   ]
  },
  {
   "cell_type": "code",
   "execution_count": 214,
   "metadata": {},
   "outputs": [
    {
     "data": {
      "text/plain": [
       "(6670, 23)"
      ]
     },
     "execution_count": 214,
     "metadata": {},
     "output_type": "execute_result"
    }
   ],
   "source": [
    "interesting_demos.shape"
   ]
  },
  {
   "cell_type": "code",
   "execution_count": 215,
   "metadata": {},
   "outputs": [
    {
     "data": {
      "text/plain": [
       "0.0       22\n",
       "0.8        1\n",
       "1.2        2\n",
       "2.1        1\n",
       "2.2        1\n",
       "2.5        1\n",
       "2.6        3\n",
       "2.9        2\n",
       "3.1        2\n",
       "3.2        1\n",
       "3.3        2\n",
       "3.4        1\n",
       "3.6        2\n",
       "3.7        3\n",
       "3.8        1\n",
       "3.9        3\n",
       "4.0        3\n",
       "4.2        2\n",
       "4.3        4\n",
       "4.5        3\n",
       "4.8        4\n",
       "5.0        2\n",
       "5.1        2\n",
       "5.2        1\n",
       "5.3        1\n",
       "5.4        2\n",
       "5.5        1\n",
       "5.6        2\n",
       "5.7        2\n",
       "5.9        2\n",
       "        ... \n",
       "96.9       7\n",
       "97.0      10\n",
       "97.1      10\n",
       "97.2       6\n",
       "97.3       5\n",
       "97.4      12\n",
       "97.5       3\n",
       "97.6       4\n",
       "97.7       2\n",
       "97.8      10\n",
       "97.9       7\n",
       "98.0       4\n",
       "98.1       5\n",
       "98.2       4\n",
       "98.3      10\n",
       "98.4       6\n",
       "98.5       3\n",
       "98.6       9\n",
       "98.7       8\n",
       "98.8       5\n",
       "98.9       4\n",
       "99.0       2\n",
       "99.1       8\n",
       "99.2       2\n",
       "99.3       7\n",
       "99.4       1\n",
       "99.5       2\n",
       "99.6       1\n",
       "99.7       1\n",
       "100.0    132\n",
       "Name: Total Grads - % of cohort, Length: 949, dtype: int64"
      ]
     },
     "execution_count": 215,
     "metadata": {},
     "output_type": "execute_result"
    }
   ],
   "source": [
    "interesting_demos['Total Grads - % of cohort'].value_counts().sort_index()"
   ]
  },
  {
   "cell_type": "code",
   "execution_count": 216,
   "metadata": {},
   "outputs": [
    {
     "data": {
      "text/plain": [
       "Demographic                            0\n",
       "DBN                                    0\n",
       "School Name                            0\n",
       "Cohort                                 0\n",
       "Total Cohort                           0\n",
       "Total Grads - n                        0\n",
       "Total Grads - % of cohort              0\n",
       "Total Regents - n                      0\n",
       "Total Regents - % of cohort            0\n",
       "Total Regents - % of grads            22\n",
       "Advanced Regents - n                   0\n",
       "Advanced Regents - % of cohort         0\n",
       "Advanced Regents - % of grads         22\n",
       "Regents w/o Advanced - n               0\n",
       "Regents w/o Advanced - % of cohort     0\n",
       "Regents w/o Advanced - % of grads     22\n",
       "Local - n                              0\n",
       "Local - % of cohort                    0\n",
       "Local - % of grads                    22\n",
       "Still Enrolled - n                     0\n",
       "Still Enrolled - % of cohort           0\n",
       "Dropped Out - n                        0\n",
       "Dropped Out - % of cohort              0\n",
       "dtype: int64"
      ]
     },
     "execution_count": 216,
     "metadata": {},
     "output_type": "execute_result"
    }
   ],
   "source": [
    "interesting_demos.isnull().sum()"
   ]
  },
  {
   "cell_type": "markdown",
   "metadata": {},
   "source": [
    "I want to know where these 22 null values are coming from:"
   ]
  },
  {
   "cell_type": "code",
   "execution_count": 217,
   "metadata": {},
   "outputs": [
    {
     "name": "stdout",
     "output_type": "stream",
     "text": [
      "        Demographic     DBN                            School Name Cohort  \\\n",
      "343    Total Cohort  02M550  LIBERTY HIGH SCHOOL ACADEMY FOR NEWCO   2001   \n",
      "735    Total Cohort  07X527         BRONX LEADERSHIP ACADEMY II HS   2002   \n",
      "1030   Total Cohort  10X319  PROVIDING URBAN LEARNERS SUCCESS IN E   2002   \n",
      "1439   Total Cohort  13K616  BROOKLYN HIGH SCHOOL FOR LEADERSHIP A   2005   \n",
      "1593   Total Cohort  15K529    WEST BROOKLYN COMMUNITY HIGH SCHOOL   2002   \n",
      "1690   Total Cohort  17K533   SCHOOL FOR DEMOCRACY AND  LEADERSHIP   2006   \n",
      "1736   Total Cohort  17K568        BROWNSVILLE ACADEMY HIGH SCHOOL   2001   \n",
      "12262         Asian  02M550  LIBERTY HIGH SCHOOL ACADEMY FOR NEWCO   2001   \n",
      "12460         Asian  05M692   HIGH SCHOOL FOR MATHEMATICS  SCIENCE   2002   \n",
      "13871         Black  02M408  PROFESSIONAL PERFORMING ARTS HIGH SCH   2004   \n",
      "14107         Black  05M692   HIGH SCHOOL FOR MATHEMATICS  SCIENCE   2002   \n",
      "14302         Black  05M285         HARLEM RENAISSANCE HIGH SCHOOL   2002   \n",
      "14304         Black  05M285         HARLEM RENAISSANCE HIGH SCHOOL   2004   \n",
      "14391         Black  07X321            CROTONA ACADEMY HIGH SCHOOL   2002   \n",
      "14434         Black  07X527         BRONX LEADERSHIP ACADEMY II HS   2002   \n",
      "14515         Black  08X377            BRONX COMMUNITY HIGH SCHOOL   2005   \n",
      "14716         Black  10X319  PROVIDING URBAN LEARNERS SUCCESS IN E   2002   \n",
      "15100         Black  13K616  BROOKLYN HIGH SCHOOL FOR LEADERSHIP A   2005   \n",
      "15343         Black  17K533   SCHOOL FOR DEMOCRACY AND  LEADERSHIP   2006   \n",
      "15389         Black  17K568        BROWNSVILLE ACADEMY HIGH SCHOOL   2001   \n",
      "16134         Black  32K564         BUSHWICK COMMUNITY HIGH SCHOOL   2002   \n",
      "16472      Hispanic  02M550  LIBERTY HIGH SCHOOL ACADEMY FOR NEWCO   2001   \n",
      "\n",
      "       Total Cohort Total Grads - n  Total Grads - % of cohort  \\\n",
      "343              66               0                        0.0   \n",
      "735              52               0                        0.0   \n",
      "1030             43               0                        0.0   \n",
      "1439             50               0                        0.0   \n",
      "1593             21               0                        0.0   \n",
      "1690             74               0                        0.0   \n",
      "1736             64               0                        0.0   \n",
      "12262            27               0                        0.0   \n",
      "12460            29               0                        0.0   \n",
      "13871            24               0                        0.0   \n",
      "14107            26               0                        0.0   \n",
      "14302            27               0                        0.0   \n",
      "14304            46               0                        0.0   \n",
      "14391            21               0                        0.0   \n",
      "14434            31               0                        0.0   \n",
      "14515            32               0                        0.0   \n",
      "14716            23               0                        0.0   \n",
      "15100            38               0                        0.0   \n",
      "15343            62               0                        0.0   \n",
      "15389            53               0                        0.0   \n",
      "16134            65               0                        0.0   \n",
      "16472            29               0                        0.0   \n",
      "\n",
      "      Total Regents - n  Total Regents - % of cohort  \\\n",
      "343                   0                          0.0   \n",
      "735                   0                          0.0   \n",
      "1030                  0                          0.0   \n",
      "1439                  0                          0.0   \n",
      "1593                  0                          0.0   \n",
      "1690                  0                          0.0   \n",
      "1736                  0                          0.0   \n",
      "12262                 0                          0.0   \n",
      "12460                 0                          0.0   \n",
      "13871                 0                          0.0   \n",
      "14107                 0                          0.0   \n",
      "14302                 0                          0.0   \n",
      "14304                 0                          0.0   \n",
      "14391                 0                          0.0   \n",
      "14434                 0                          0.0   \n",
      "14515                 0                          0.0   \n",
      "14716                 0                          0.0   \n",
      "15100                 0                          0.0   \n",
      "15343                 0                          0.0   \n",
      "15389                 0                          0.0   \n",
      "16134                 0                          0.0   \n",
      "16472                 0                          0.0   \n",
      "\n",
      "       Total Regents - % of grads Advanced Regents - n  \\\n",
      "343                           NaN                    0   \n",
      "735                           NaN                    0   \n",
      "1030                          NaN                    0   \n",
      "1439                          NaN                    0   \n",
      "1593                          NaN                    0   \n",
      "1690                          NaN                    0   \n",
      "1736                          NaN                    0   \n",
      "12262                         NaN                    0   \n",
      "12460                         NaN                    0   \n",
      "13871                         NaN                    0   \n",
      "14107                         NaN                    0   \n",
      "14302                         NaN                    0   \n",
      "14304                         NaN                    0   \n",
      "14391                         NaN                    0   \n",
      "14434                         NaN                    0   \n",
      "14515                         NaN                    0   \n",
      "14716                         NaN                    0   \n",
      "15100                         NaN                    0   \n",
      "15343                         NaN                    0   \n",
      "15389                         NaN                    0   \n",
      "16134                         NaN                    0   \n",
      "16472                         NaN                    0   \n",
      "\n",
      "       Advanced Regents - % of cohort  Advanced Regents - % of grads  \\\n",
      "343                               0.0                            NaN   \n",
      "735                               0.0                            NaN   \n",
      "1030                              0.0                            NaN   \n",
      "1439                              0.0                            NaN   \n",
      "1593                              0.0                            NaN   \n",
      "1690                              0.0                            NaN   \n",
      "1736                              0.0                            NaN   \n",
      "12262                             0.0                            NaN   \n",
      "12460                             0.0                            NaN   \n",
      "13871                             0.0                            NaN   \n",
      "14107                             0.0                            NaN   \n",
      "14302                             0.0                            NaN   \n",
      "14304                             0.0                            NaN   \n",
      "14391                             0.0                            NaN   \n",
      "14434                             0.0                            NaN   \n",
      "14515                             0.0                            NaN   \n",
      "14716                             0.0                            NaN   \n",
      "15100                             0.0                            NaN   \n",
      "15343                             0.0                            NaN   \n",
      "15389                             0.0                            NaN   \n",
      "16134                             0.0                            NaN   \n",
      "16472                             0.0                            NaN   \n",
      "\n",
      "      Regents w/o Advanced - n  Regents w/o Advanced - % of cohort  \\\n",
      "343                          0                                 0.0   \n",
      "735                          0                                 0.0   \n",
      "1030                         0                                 0.0   \n",
      "1439                         0                                 0.0   \n",
      "1593                         0                                 0.0   \n",
      "1690                         0                                 0.0   \n",
      "1736                         0                                 0.0   \n",
      "12262                        0                                 0.0   \n",
      "12460                        0                                 0.0   \n",
      "13871                        0                                 0.0   \n",
      "14107                        0                                 0.0   \n",
      "14302                        0                                 0.0   \n",
      "14304                        0                                 0.0   \n",
      "14391                        0                                 0.0   \n",
      "14434                        0                                 0.0   \n",
      "14515                        0                                 0.0   \n",
      "14716                        0                                 0.0   \n",
      "15100                        0                                 0.0   \n",
      "15343                        0                                 0.0   \n",
      "15389                        0                                 0.0   \n",
      "16134                        0                                 0.0   \n",
      "16472                        0                                 0.0   \n",
      "\n",
      "       Regents w/o Advanced - % of grads Local - n  Local - % of cohort  \\\n",
      "343                                  NaN         0                  0.0   \n",
      "735                                  NaN         0                  0.0   \n",
      "1030                                 NaN         0                  0.0   \n",
      "1439                                 NaN         0                  0.0   \n",
      "1593                                 NaN         0                  0.0   \n",
      "1690                                 NaN         0                  0.0   \n",
      "1736                                 NaN         0                  0.0   \n",
      "12262                                NaN         0                  0.0   \n",
      "12460                                NaN         0                  0.0   \n",
      "13871                                NaN         0                  0.0   \n",
      "14107                                NaN         0                  0.0   \n",
      "14302                                NaN         0                  0.0   \n",
      "14304                                NaN         0                  0.0   \n",
      "14391                                NaN         0                  0.0   \n",
      "14434                                NaN         0                  0.0   \n",
      "14515                                NaN         0                  0.0   \n",
      "14716                                NaN         0                  0.0   \n",
      "15100                                NaN         0                  0.0   \n",
      "15343                                NaN         0                  0.0   \n",
      "15389                                NaN         0                  0.0   \n",
      "16134                                NaN         0                  0.0   \n",
      "16472                                NaN         0                  0.0   \n",
      "\n",
      "       Local - % of grads Still Enrolled - n  Still Enrolled - % of cohort  \\\n",
      "343                   NaN                 11                          16.7   \n",
      "735                   NaN                 51                          98.1   \n",
      "1030                  NaN                 33                          76.7   \n",
      "1439                  NaN                 48                          96.0   \n",
      "1593                  NaN                 21                         100.0   \n",
      "1690                  NaN                 63                          85.1   \n",
      "1736                  NaN                 63                          98.4   \n",
      "12262                 NaN                4.0                          14.8   \n",
      "12460                 NaN                1.0                           3.4   \n",
      "13871                 NaN               24.0                         100.0   \n",
      "14107                 NaN                0.0                           0.0   \n",
      "14302                 NaN               23.0                          85.2   \n",
      "14304                 NaN               36.0                          78.3   \n",
      "14391                 NaN               16.0                          76.2   \n",
      "14434                 NaN               30.0                          96.8   \n",
      "14515                 NaN               25.0                          78.1   \n",
      "14716                 NaN               15.0                          65.2   \n",
      "15100                 NaN               37.0                          97.4   \n",
      "15343                 NaN               55.0                          88.7   \n",
      "15389                 NaN               52.0                          98.1   \n",
      "16134                 NaN               55.0                          84.6   \n",
      "16472                 NaN                5.0                          17.2   \n",
      "\n",
      "      Dropped Out - n  Dropped Out - % of cohort  \n",
      "343                49                       74.2  \n",
      "735                 0                        0.0  \n",
      "1030               10                       23.3  \n",
      "1439                2                        4.0  \n",
      "1593                0                        0.0  \n",
      "1690                6                        8.1  \n",
      "1736                1                        1.6  \n",
      "12262            21.0                       77.8  \n",
      "12460             0.0                        0.0  \n",
      "13871             0.0                        0.0  \n",
      "14107             1.0                        3.8  \n",
      "14302             4.0                       14.8  \n",
      "14304            10.0                       21.7  \n",
      "14391             5.0                       23.8  \n",
      "14434             0.0                        0.0  \n",
      "14515             6.0                       18.8  \n",
      "14716             8.0                       34.8  \n",
      "15100             1.0                        2.6  \n",
      "15343             3.0                        4.8  \n",
      "15389             1.0                        1.9  \n",
      "16134            10.0                       15.4  \n",
      "16472            20.0                       69.0  \n"
     ]
    }
   ],
   "source": [
    "null_regents = interesting_demos[interesting_demos['Total Regents - % of grads'].isnull()]\n",
    "print(null_regents)"
   ]
  },
  {
   "cell_type": "code",
   "execution_count": 218,
   "metadata": {},
   "outputs": [
    {
     "data": {
      "text/plain": [
       "(22, 23)"
      ]
     },
     "execution_count": 218,
     "metadata": {},
     "output_type": "execute_result"
    }
   ],
   "source": [
    "null_regents.shape"
   ]
  },
  {
   "cell_type": "code",
   "execution_count": 219,
   "metadata": {},
   "outputs": [
    {
     "data": {
      "text/plain": [
       "(6670, 23)"
      ]
     },
     "execution_count": 219,
     "metadata": {},
     "output_type": "execute_result"
    }
   ],
   "source": [
    "interesting_demos = interesting_demos[~interesting_demos['Total Regents - % of grads'].isin(null_regents)]\n",
    "interesting_demos.shape"
   ]
  },
  {
   "cell_type": "markdown",
   "metadata": {},
   "source": [
    "**Why is this returning zero rows?**"
   ]
  },
  {
   "cell_type": "code",
   "execution_count": 220,
   "metadata": {},
   "outputs": [
    {
     "data": {
      "text/plain": [
       "pandas.core.series.Series"
      ]
     },
     "execution_count": 220,
     "metadata": {},
     "output_type": "execute_result"
    }
   ],
   "source": [
    "type(interesting_demos['Total Regents - % of grads'].isnull())"
   ]
  },
  {
   "cell_type": "code",
   "execution_count": 221,
   "metadata": {},
   "outputs": [
    {
     "data": {
      "text/plain": [
       "(6648, 23)"
      ]
     },
     "execution_count": 221,
     "metadata": {},
     "output_type": "execute_result"
    }
   ],
   "source": [
    "interesting_demos = interesting_demos[interesting_demos['Total Regents - % of grads'].notnull()]\n",
    "interesting_demos.shape"
   ]
  },
  {
   "cell_type": "markdown",
   "metadata": {},
   "source": [
    "Since the same school appears multiple times, I need to combine data. What is the best way to view the data? In the end, I want statistics based on demographics, so I should calculate statistics given a particular race/ethnicity. I'll focus on four columns:"
   ]
  },
  {
   "cell_type": "code",
   "execution_count": 222,
   "metadata": {},
   "outputs": [
    {
     "data": {
      "text/html": [
       "<div>\n",
       "<style scoped>\n",
       "    .dataframe tbody tr th:only-of-type {\n",
       "        vertical-align: middle;\n",
       "    }\n",
       "\n",
       "    .dataframe tbody tr th {\n",
       "        vertical-align: top;\n",
       "    }\n",
       "\n",
       "    .dataframe thead th {\n",
       "        text-align: right;\n",
       "    }\n",
       "</style>\n",
       "<table border=\"1\" class=\"dataframe\">\n",
       "  <thead>\n",
       "    <tr style=\"text-align: right;\">\n",
       "      <th></th>\n",
       "      <th>Demographic</th>\n",
       "      <th>Total Cohort</th>\n",
       "      <th>Total Grads - n</th>\n",
       "      <th>Total Regents - n</th>\n",
       "      <th>Advanced Regents - n</th>\n",
       "    </tr>\n",
       "  </thead>\n",
       "  <tbody>\n",
       "    <tr>\n",
       "      <th>1</th>\n",
       "      <td>Total Cohort</td>\n",
       "      <td>55</td>\n",
       "      <td>37</td>\n",
       "      <td>17</td>\n",
       "      <td>0</td>\n",
       "    </tr>\n",
       "    <tr>\n",
       "      <th>2</th>\n",
       "      <td>Total Cohort</td>\n",
       "      <td>64</td>\n",
       "      <td>43</td>\n",
       "      <td>27</td>\n",
       "      <td>0</td>\n",
       "    </tr>\n",
       "    <tr>\n",
       "      <th>3</th>\n",
       "      <td>Total Cohort</td>\n",
       "      <td>78</td>\n",
       "      <td>43</td>\n",
       "      <td>36</td>\n",
       "      <td>0</td>\n",
       "    </tr>\n",
       "    <tr>\n",
       "      <th>4</th>\n",
       "      <td>Total Cohort</td>\n",
       "      <td>78</td>\n",
       "      <td>44</td>\n",
       "      <td>37</td>\n",
       "      <td>0</td>\n",
       "    </tr>\n",
       "    <tr>\n",
       "      <th>5</th>\n",
       "      <td>Total Cohort</td>\n",
       "      <td>64</td>\n",
       "      <td>46</td>\n",
       "      <td>32</td>\n",
       "      <td>7</td>\n",
       "    </tr>\n",
       "  </tbody>\n",
       "</table>\n",
       "</div>"
      ],
      "text/plain": [
       "    Demographic  Total Cohort Total Grads - n Total Regents - n  \\\n",
       "1  Total Cohort            55              37                17   \n",
       "2  Total Cohort            64              43                27   \n",
       "3  Total Cohort            78              43                36   \n",
       "4  Total Cohort            78              44                37   \n",
       "5  Total Cohort            64              46                32   \n",
       "\n",
       "  Advanced Regents - n  \n",
       "1                    0  \n",
       "2                    0  \n",
       "3                    0  \n",
       "4                    0  \n",
       "5                    7  "
      ]
     },
     "execution_count": 222,
     "metadata": {},
     "output_type": "execute_result"
    }
   ],
   "source": [
    "cols = ['Demographic', 'Total Cohort', 'Total Grads - n', 'Total Regents - n', 'Advanced Regents - n']\n",
    "interesting_demos = interesting_demos[cols]\n",
    "interesting_demos.head()"
   ]
  },
  {
   "cell_type": "code",
   "execution_count": 223,
   "metadata": {},
   "outputs": [
    {
     "name": "stdout",
     "output_type": "stream",
     "text": [
      "         Demographic  Total Cohort Total Grads - n Total Regents - n  \\\n",
      "count           6648   6648.000000            6648              6648   \n",
      "unique             5           NaN             531               454   \n",
      "top     Total Cohort           NaN              21                 0   \n",
      "freq            2183           NaN             113               216   \n",
      "mean             NaN    142.399218             NaN               NaN   \n",
      "std              NaN    176.589237             NaN               NaN   \n",
      "min              NaN     21.000000             NaN               NaN   \n",
      "25%              NaN     45.000000             NaN               NaN   \n",
      "50%              NaN     80.000000             NaN               NaN   \n",
      "75%              NaN    152.000000             NaN               NaN   \n",
      "max              NaN   1209.000000             NaN               NaN   \n",
      "\n",
      "       Advanced Regents - n  \n",
      "count                  6648  \n",
      "unique                  298  \n",
      "top                       0  \n",
      "freq                   2101  \n",
      "mean                    NaN  \n",
      "std                     NaN  \n",
      "min                     NaN  \n",
      "25%                     NaN  \n",
      "50%                     NaN  \n",
      "75%                     NaN  \n",
      "max                     NaN  \n"
     ]
    }
   ],
   "source": [
    "interesting_demos_stats = interesting_demos.describe(include='all')\n",
    "print(interesting_demos_stats)"
   ]
  },
  {
   "cell_type": "markdown",
   "metadata": {},
   "source": [
    "Why am I getting `NaN` values? I thought I removed all null values..."
   ]
  },
  {
   "cell_type": "code",
   "execution_count": 224,
   "metadata": {},
   "outputs": [
    {
     "data": {
      "text/plain": [
       "0"
      ]
     },
     "execution_count": 224,
     "metadata": {},
     "output_type": "execute_result"
    }
   ],
   "source": [
    "interesting_demos['Total Grads - n'].isnull().sum()"
   ]
  },
  {
   "cell_type": "code",
   "execution_count": 225,
   "metadata": {},
   "outputs": [
    {
     "data": {
      "text/plain": [
       "inf"
      ]
     },
     "execution_count": 225,
     "metadata": {},
     "output_type": "execute_result"
    }
   ],
   "source": [
    "interesting_demos['Total Grads - n'].mean()"
   ]
  },
  {
   "cell_type": "markdown",
   "metadata": {},
   "source": [
    "I think I am getting `NaN` values above in the `describe()` output because the values are too large. I hope that by grouping by demographics, I will obtain more usable information:"
   ]
  },
  {
   "cell_type": "code",
   "execution_count": 226,
   "metadata": {},
   "outputs": [
    {
     "data": {
      "text/plain": [
       "pandas.core.groupby.generic.DataFrameGroupBy"
      ]
     },
     "execution_count": 226,
     "metadata": {},
     "output_type": "execute_result"
    }
   ],
   "source": [
    "int_dem_grpby = interesting_demos.groupby('Demographic')\n",
    "type(int_dem_grpby)"
   ]
  },
  {
   "cell_type": "code",
   "execution_count": 227,
   "metadata": {},
   "outputs": [
    {
     "data": {
      "text/html": [
       "<div>\n",
       "<style scoped>\n",
       "    .dataframe tbody tr th:only-of-type {\n",
       "        vertical-align: middle;\n",
       "    }\n",
       "\n",
       "    .dataframe tbody tr th {\n",
       "        vertical-align: top;\n",
       "    }\n",
       "\n",
       "    .dataframe thead th {\n",
       "        text-align: right;\n",
       "    }\n",
       "</style>\n",
       "<table border=\"1\" class=\"dataframe\">\n",
       "  <thead>\n",
       "    <tr style=\"text-align: right;\">\n",
       "      <th></th>\n",
       "      <th>count</th>\n",
       "      <th>mean</th>\n",
       "      <th>std</th>\n",
       "      <th>min</th>\n",
       "      <th>25%</th>\n",
       "      <th>50%</th>\n",
       "      <th>75%</th>\n",
       "      <th>max</th>\n",
       "    </tr>\n",
       "    <tr>\n",
       "      <th>Demographic</th>\n",
       "      <th></th>\n",
       "      <th></th>\n",
       "      <th></th>\n",
       "      <th></th>\n",
       "      <th></th>\n",
       "      <th></th>\n",
       "      <th></th>\n",
       "      <th></th>\n",
       "    </tr>\n",
       "  </thead>\n",
       "  <tbody>\n",
       "    <tr>\n",
       "      <th>Asian</th>\n",
       "      <td>512.0</td>\n",
       "      <td>130.064453</td>\n",
       "      <td>126.478039</td>\n",
       "      <td>21.0</td>\n",
       "      <td>39.0</td>\n",
       "      <td>71.0</td>\n",
       "      <td>186.25</td>\n",
       "      <td>627.0</td>\n",
       "    </tr>\n",
       "    <tr>\n",
       "      <th>Black</th>\n",
       "      <td>1734.0</td>\n",
       "      <td>91.262976</td>\n",
       "      <td>92.879909</td>\n",
       "      <td>21.0</td>\n",
       "      <td>34.0</td>\n",
       "      <td>59.0</td>\n",
       "      <td>107.00</td>\n",
       "      <td>921.0</td>\n",
       "    </tr>\n",
       "    <tr>\n",
       "      <th>Hispanic</th>\n",
       "      <td>1710.0</td>\n",
       "      <td>100.409357</td>\n",
       "      <td>105.083626</td>\n",
       "      <td>21.0</td>\n",
       "      <td>40.0</td>\n",
       "      <td>59.5</td>\n",
       "      <td>116.00</td>\n",
       "      <td>703.0</td>\n",
       "    </tr>\n",
       "    <tr>\n",
       "      <th>Total Cohort</th>\n",
       "      <td>2183.0</td>\n",
       "      <td>222.978012</td>\n",
       "      <td>247.525307</td>\n",
       "      <td>21.0</td>\n",
       "      <td>80.0</td>\n",
       "      <td>108.0</td>\n",
       "      <td>253.50</td>\n",
       "      <td>1209.0</td>\n",
       "    </tr>\n",
       "    <tr>\n",
       "      <th>White</th>\n",
       "      <td>509.0</td>\n",
       "      <td>124.491159</td>\n",
       "      <td>137.679040</td>\n",
       "      <td>21.0</td>\n",
       "      <td>35.0</td>\n",
       "      <td>60.0</td>\n",
       "      <td>183.00</td>\n",
       "      <td>870.0</td>\n",
       "    </tr>\n",
       "  </tbody>\n",
       "</table>\n",
       "</div>"
      ],
      "text/plain": [
       "               count        mean         std   min   25%    50%     75%  \\\n",
       "Demographic                                                               \n",
       "Asian          512.0  130.064453  126.478039  21.0  39.0   71.0  186.25   \n",
       "Black         1734.0   91.262976   92.879909  21.0  34.0   59.0  107.00   \n",
       "Hispanic      1710.0  100.409357  105.083626  21.0  40.0   59.5  116.00   \n",
       "Total Cohort  2183.0  222.978012  247.525307  21.0  80.0  108.0  253.50   \n",
       "White          509.0  124.491159  137.679040  21.0  35.0   60.0  183.00   \n",
       "\n",
       "                 max  \n",
       "Demographic           \n",
       "Asian          627.0  \n",
       "Black          921.0  \n",
       "Hispanic       703.0  \n",
       "Total Cohort  1209.0  \n",
       "White          870.0  "
      ]
     },
     "execution_count": 227,
     "metadata": {},
     "output_type": "execute_result"
    }
   ],
   "source": [
    "int_dem_grpby['Total Cohort'].describe()"
   ]
  },
  {
   "cell_type": "code",
   "execution_count": 228,
   "metadata": {},
   "outputs": [
    {
     "data": {
      "text/html": [
       "<div>\n",
       "<style scoped>\n",
       "    .dataframe tbody tr th:only-of-type {\n",
       "        vertical-align: middle;\n",
       "    }\n",
       "\n",
       "    .dataframe tbody tr th {\n",
       "        vertical-align: top;\n",
       "    }\n",
       "\n",
       "    .dataframe thead tr th {\n",
       "        text-align: left;\n",
       "    }\n",
       "\n",
       "    .dataframe thead tr:last-of-type th {\n",
       "        text-align: right;\n",
       "    }\n",
       "</style>\n",
       "<table border=\"1\" class=\"dataframe\">\n",
       "  <thead>\n",
       "    <tr>\n",
       "      <th></th>\n",
       "      <th colspan=\"3\" halign=\"left\">Total Cohort</th>\n",
       "    </tr>\n",
       "    <tr>\n",
       "      <th></th>\n",
       "      <th>mean</th>\n",
       "      <th>std</th>\n",
       "      <th>median</th>\n",
       "    </tr>\n",
       "    <tr>\n",
       "      <th>Demographic</th>\n",
       "      <th></th>\n",
       "      <th></th>\n",
       "      <th></th>\n",
       "    </tr>\n",
       "  </thead>\n",
       "  <tbody>\n",
       "    <tr>\n",
       "      <th>Asian</th>\n",
       "      <td>130.064453</td>\n",
       "      <td>126.478039</td>\n",
       "      <td>71.0</td>\n",
       "    </tr>\n",
       "    <tr>\n",
       "      <th>Black</th>\n",
       "      <td>91.262976</td>\n",
       "      <td>92.879909</td>\n",
       "      <td>59.0</td>\n",
       "    </tr>\n",
       "    <tr>\n",
       "      <th>Hispanic</th>\n",
       "      <td>100.409357</td>\n",
       "      <td>105.083626</td>\n",
       "      <td>59.5</td>\n",
       "    </tr>\n",
       "    <tr>\n",
       "      <th>Total Cohort</th>\n",
       "      <td>222.978012</td>\n",
       "      <td>247.525307</td>\n",
       "      <td>108.0</td>\n",
       "    </tr>\n",
       "    <tr>\n",
       "      <th>White</th>\n",
       "      <td>124.491159</td>\n",
       "      <td>137.679040</td>\n",
       "      <td>60.0</td>\n",
       "    </tr>\n",
       "  </tbody>\n",
       "</table>\n",
       "</div>"
      ],
      "text/plain": [
       "             Total Cohort                   \n",
       "                     mean         std median\n",
       "Demographic                                 \n",
       "Asian          130.064453  126.478039   71.0\n",
       "Black           91.262976   92.879909   59.0\n",
       "Hispanic       100.409357  105.083626   59.5\n",
       "Total Cohort   222.978012  247.525307  108.0\n",
       "White          124.491159  137.679040   60.0"
      ]
     },
     "execution_count": 228,
     "metadata": {},
     "output_type": "execute_result"
    }
   ],
   "source": [
    "int_dem_grpby.aggregate(['mean', 'std', 'median'])"
   ]
  },
  {
   "cell_type": "markdown",
   "metadata": {},
   "source": [
    "**Why is the `aggregate` method not aggregating over all columns?**"
   ]
  },
  {
   "cell_type": "code",
   "execution_count": 229,
   "metadata": {},
   "outputs": [
    {
     "data": {
      "text/html": [
       "<div>\n",
       "<style scoped>\n",
       "    .dataframe tbody tr th:only-of-type {\n",
       "        vertical-align: middle;\n",
       "    }\n",
       "\n",
       "    .dataframe tbody tr th {\n",
       "        vertical-align: top;\n",
       "    }\n",
       "\n",
       "    .dataframe thead th {\n",
       "        text-align: right;\n",
       "    }\n",
       "</style>\n",
       "<table border=\"1\" class=\"dataframe\">\n",
       "  <thead>\n",
       "    <tr style=\"text-align: right;\">\n",
       "      <th></th>\n",
       "      <th>count</th>\n",
       "      <th>unique</th>\n",
       "      <th>top</th>\n",
       "      <th>freq</th>\n",
       "    </tr>\n",
       "    <tr>\n",
       "      <th>Demographic</th>\n",
       "      <th></th>\n",
       "      <th></th>\n",
       "      <th></th>\n",
       "      <th></th>\n",
       "    </tr>\n",
       "  </thead>\n",
       "  <tbody>\n",
       "    <tr>\n",
       "      <th>Asian</th>\n",
       "      <td>512</td>\n",
       "      <td>206</td>\n",
       "      <td>23</td>\n",
       "      <td>14</td>\n",
       "    </tr>\n",
       "    <tr>\n",
       "      <th>Black</th>\n",
       "      <td>1734</td>\n",
       "      <td>221</td>\n",
       "      <td>15</td>\n",
       "      <td>53</td>\n",
       "    </tr>\n",
       "    <tr>\n",
       "      <th>Hispanic</th>\n",
       "      <td>1710</td>\n",
       "      <td>210</td>\n",
       "      <td>30</td>\n",
       "      <td>41</td>\n",
       "    </tr>\n",
       "    <tr>\n",
       "      <th>Total Cohort</th>\n",
       "      <td>2183</td>\n",
       "      <td>471</td>\n",
       "      <td>55</td>\n",
       "      <td>33</td>\n",
       "    </tr>\n",
       "    <tr>\n",
       "      <th>White</th>\n",
       "      <td>509</td>\n",
       "      <td>199</td>\n",
       "      <td>21</td>\n",
       "      <td>16</td>\n",
       "    </tr>\n",
       "  </tbody>\n",
       "</table>\n",
       "</div>"
      ],
      "text/plain": [
       "             count unique top freq\n",
       "Demographic                       \n",
       "Asian          512    206  23   14\n",
       "Black         1734    221  15   53\n",
       "Hispanic      1710    210  30   41\n",
       "Total Cohort  2183    471  55   33\n",
       "White          509    199  21   16"
      ]
     },
     "execution_count": 229,
     "metadata": {},
     "output_type": "execute_result"
    }
   ],
   "source": [
    "int_dem_grpby['Total Grads - n'].describe()"
   ]
  },
  {
   "cell_type": "markdown",
   "metadata": {},
   "source": [
    "**Why is this giving an output with different summary statistics than `int_dem_grpby['Total Cohort'].describe()`?**"
   ]
  },
  {
   "cell_type": "code",
   "execution_count": 230,
   "metadata": {},
   "outputs": [
    {
     "data": {
      "text/plain": [
       "pandas.core.groupby.generic.SeriesGroupBy"
      ]
     },
     "execution_count": 230,
     "metadata": {},
     "output_type": "execute_result"
    }
   ],
   "source": [
    "type(int_dem_grpby['Total Grads - n'])"
   ]
  },
  {
   "cell_type": "code",
   "execution_count": 231,
   "metadata": {},
   "outputs": [
    {
     "data": {
      "text/plain": [
       "pandas.core.groupby.generic.SeriesGroupBy"
      ]
     },
     "execution_count": 231,
     "metadata": {},
     "output_type": "execute_result"
    }
   ],
   "source": [
    "type(int_dem_grpby['Total Cohort'])"
   ]
  },
  {
   "cell_type": "markdown",
   "metadata": {},
   "source": [
    "I keep getting an error `DataError: No numeric types to aggregate`, so I'm wondering if the data in my Series is not the correct type:"
   ]
  },
  {
   "cell_type": "code",
   "execution_count": 234,
   "metadata": {},
   "outputs": [
    {
     "data": {
      "text/plain": [
       "21    113\n",
       "19    112\n",
       "25    110\n",
       "28    103\n",
       "23    100\n",
       "Name: Total Grads - n, dtype: int64"
      ]
     },
     "execution_count": 234,
     "metadata": {},
     "output_type": "execute_result"
    }
   ],
   "source": [
    "interesting_demos['Total Grads - n'].value_counts().head()"
   ]
  },
  {
   "cell_type": "markdown",
   "metadata": {},
   "source": [
    "The dtype seems correct..."
   ]
  },
  {
   "cell_type": "code",
   "execution_count": null,
   "metadata": {},
   "outputs": [],
   "source": []
  }
 ],
 "metadata": {
  "kernelspec": {
   "display_name": "Python 3",
   "language": "python",
   "name": "python3"
  },
  "language_info": {
   "codemirror_mode": {
    "name": "ipython",
    "version": 3
   },
   "file_extension": ".py",
   "mimetype": "text/x-python",
   "name": "python",
   "nbconvert_exporter": "python",
   "pygments_lexer": "ipython3",
   "version": "3.7.3"
  }
 },
 "nbformat": 4,
 "nbformat_minor": 2
}
